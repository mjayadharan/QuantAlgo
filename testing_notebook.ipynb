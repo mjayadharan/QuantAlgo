{
 "cells": [
  {
   "cell_type": "code",
   "execution_count": 1,
   "id": "initial_id",
   "metadata": {
    "collapsed": true,
    "ExecuteTime": {
     "end_time": "2024-06-07T22:33:51.031533Z",
     "start_time": "2024-06-07T22:33:51.021042Z"
    }
   },
   "outputs": [],
   "source": [
    "import security"
   ]
  },
  {
   "cell_type": "code",
   "execution_count": 2,
   "outputs": [],
   "source": [
    "test_base = security.Base()"
   ],
   "metadata": {
    "collapsed": false,
    "ExecuteTime": {
     "end_time": "2024-06-07T22:33:51.184083Z",
     "start_time": "2024-06-07T22:33:51.182038Z"
    }
   },
   "id": "2405b17f4fa7faae"
  },
  {
   "cell_type": "code",
   "execution_count": 3,
   "outputs": [
    {
     "data": {
      "text/plain": "{'class_name': security.Base, 'init_dict': {}}"
     },
     "execution_count": 3,
     "metadata": {},
     "output_type": "execute_result"
    }
   ],
   "source": [
    "test_base.get_clone_dict()"
   ],
   "metadata": {
    "collapsed": false,
    "ExecuteTime": {
     "end_time": "2024-06-07T22:33:51.495530Z",
     "start_time": "2024-06-07T22:33:51.490698Z"
    }
   },
   "id": "273f2f0baabb2e3e"
  },
  {
   "cell_type": "code",
   "execution_count": 4,
   "outputs": [
    {
     "data": {
      "text/plain": "<security.Base at 0x105d43050>"
     },
     "execution_count": 4,
     "metadata": {},
     "output_type": "execute_result"
    }
   ],
   "source": [
    "test_base.clone()"
   ],
   "metadata": {
    "collapsed": false,
    "ExecuteTime": {
     "end_time": "2024-06-07T22:31:25.533030Z",
     "start_time": "2024-06-07T22:31:25.529080Z"
    }
   },
   "id": "3c7460ad381e3661"
  },
  {
   "cell_type": "code",
   "execution_count": 5,
   "outputs": [
    {
     "data": {
      "text/plain": "'Base'"
     },
     "execution_count": 5,
     "metadata": {},
     "output_type": "execute_result"
    }
   ],
   "source": [
    "test_base.get_type_name()"
   ],
   "metadata": {
    "collapsed": false,
    "ExecuteTime": {
     "end_time": "2024-06-07T22:31:27.410117Z",
     "start_time": "2024-06-07T22:31:27.405616Z"
    }
   },
   "id": "98304a749e6014f1"
  },
  {
   "cell_type": "code",
   "execution_count": 4,
   "outputs": [],
   "source": [
    "from datetime import date\n",
    "\n",
    "aapl_call_1 = security.Option(\"AAPL\", date(2021, 4,2), 140, option_type=\"Call\")"
   ],
   "metadata": {
    "collapsed": false,
    "ExecuteTime": {
     "end_time": "2024-06-07T22:33:54.517041Z",
     "start_time": "2024-06-07T22:33:54.509153Z"
    }
   },
   "id": "a6c0bc5e6d4408cd"
  },
  {
   "cell_type": "code",
   "execution_count": 5,
   "outputs": [
    {
     "name": "stdout",
     "output_type": "stream",
     "text": [
      "{'Ticker Name': 'AAPL', 'option_type': 'Call', 'Expiry Date': datetime.date(2021, 4, 2), 'Strike': 140, 'Last Bid Price': None, 'Last Ask Price': None}\n"
     ]
    }
   ],
   "source": [
    "aapl_call_1.display_info()"
   ],
   "metadata": {
    "collapsed": false,
    "ExecuteTime": {
     "end_time": "2024-06-07T22:33:56.074517Z",
     "start_time": "2024-06-07T22:33:56.066664Z"
    }
   },
   "id": "7f2369c0dc22147"
  },
  {
   "cell_type": "code",
   "execution_count": 6,
   "outputs": [
    {
     "data": {
      "text/plain": "'<AAPL-Call-2021-04-02-140>'"
     },
     "execution_count": 6,
     "metadata": {},
     "output_type": "execute_result"
    }
   ],
   "source": [
    "str(aapl_call_1)"
   ],
   "metadata": {
    "collapsed": false,
    "ExecuteTime": {
     "end_time": "2024-06-07T22:34:17.262169Z",
     "start_time": "2024-06-07T22:34:17.259224Z"
    }
   },
   "id": "490cbc436a3ac563"
  },
  {
   "cell_type": "code",
   "execution_count": null,
   "outputs": [],
   "source": [],
   "metadata": {
    "collapsed": false
   },
   "id": "9a89f7ef8e98265"
  },
  {
   "cell_type": "code",
   "execution_count": null,
   "outputs": [],
   "source": [],
   "metadata": {
    "collapsed": false
   },
   "id": "d40cb416531eebe2"
  },
  {
   "cell_type": "code",
   "execution_count": null,
   "outputs": [],
   "source": [],
   "metadata": {
    "collapsed": false
   },
   "id": "7e246f83f21e8e17"
  },
  {
   "cell_type": "code",
   "execution_count": null,
   "outputs": [],
   "source": [],
   "metadata": {
    "collapsed": false
   },
   "id": "edb681fca0e2ed89"
  },
  {
   "cell_type": "code",
   "execution_count": 12,
   "outputs": [
    {
     "data": {
      "text/plain": "{'self': <security.Option at 0x11ae582c0>,\n 'ticker_name': 'AAPL',\n 'expiry_date': datetime.date(2021, 4, 2),\n 'strike': 140,\n 'option_type': 'Call',\n '__class__': security.Option}"
     },
     "execution_count": 12,
     "metadata": {},
     "output_type": "execute_result"
    }
   ],
   "source": [
    "aapl_call_1.init_locals"
   ],
   "metadata": {
    "collapsed": false,
    "ExecuteTime": {
     "end_time": "2024-06-07T22:10:22.498321Z",
     "start_time": "2024-06-07T22:10:22.488156Z"
    }
   },
   "id": "651a3fed6902c608"
  },
  {
   "cell_type": "code",
   "execution_count": 13,
   "outputs": [
    {
     "data": {
      "text/plain": "<security.Option at 0x11ae58740>"
     },
     "execution_count": 13,
     "metadata": {},
     "output_type": "execute_result"
    }
   ],
   "source": [
    "aapl_call_1.clone()"
   ],
   "metadata": {
    "collapsed": false,
    "ExecuteTime": {
     "end_time": "2024-06-07T22:10:28.637665Z",
     "start_time": "2024-06-07T22:10:28.628910Z"
    }
   },
   "id": "852b4125e5484fcd"
  },
  {
   "cell_type": "code",
   "execution_count": 6,
   "outputs": [],
   "source": [
    "\n",
    "new_bie = security.Security()\n",
    "# test_base.display_info()"
   ],
   "metadata": {
    "collapsed": false,
    "ExecuteTime": {
     "end_time": "2024-06-07T22:31:33.534917Z",
     "start_time": "2024-06-07T22:31:33.529668Z"
    }
   },
   "id": "94cfe017f64e4a05"
  },
  {
   "cell_type": "code",
   "execution_count": 7,
   "outputs": [
    {
     "name": "stdout",
     "output_type": "stream",
     "text": [
      "Security type: NullSecurity\n"
     ]
    }
   ],
   "source": [
    "new_bie.display_info()"
   ],
   "metadata": {
    "collapsed": false,
    "ExecuteTime": {
     "end_time": "2024-06-07T22:31:35.198629Z",
     "start_time": "2024-06-07T22:31:35.194213Z"
    }
   },
   "id": "f5e37dd1ba6f5cbe"
  },
  {
   "cell_type": "code",
   "execution_count": 11,
   "outputs": [
    {
     "name": "stdout",
     "output_type": "stream",
     "text": [
      "Security type: NullSecurity\n"
     ]
    }
   ],
   "source": [
    "new_bie.display_info()"
   ],
   "metadata": {
    "collapsed": false,
    "ExecuteTime": {
     "end_time": "2024-06-07T22:32:19.574409Z",
     "start_time": "2024-06-07T22:32:19.566795Z"
    }
   },
   "id": "b11a7260564cd7c0"
  },
  {
   "cell_type": "code",
   "execution_count": 19,
   "outputs": [
    {
     "data": {
      "text/plain": "'Security'"
     },
     "execution_count": 19,
     "metadata": {},
     "output_type": "execute_result"
    }
   ],
   "source": [
    "str(type(new_bie)).split('.')\n",
    "type_name_l = str(type(new_bie)).split('.')\n",
    "\n",
    "type_name_l[-1][:type_name_l[-1].index(\"'\")]"
   ],
   "metadata": {
    "collapsed": false,
    "ExecuteTime": {
     "end_time": "2024-06-07T22:17:55.599211Z",
     "start_time": "2024-06-07T22:17:55.587041Z"
    }
   },
   "id": "34d1453000044309"
  },
  {
   "cell_type": "code",
   "execution_count": 8,
   "outputs": [
    {
     "data": {
      "text/plain": "{'class_name': security.Security, 'init_dict': {'type': 'new'}}"
     },
     "execution_count": 8,
     "metadata": {},
     "output_type": "execute_result"
    }
   ],
   "source": [
    "new_bie.get_clone_dict()"
   ],
   "metadata": {
    "collapsed": false,
    "ExecuteTime": {
     "end_time": "2024-06-07T22:09:48.979725Z",
     "start_time": "2024-06-07T22:09:48.974105Z"
    }
   },
   "id": "92b7bd1627cdf63b"
  },
  {
   "cell_type": "code",
   "execution_count": 10,
   "outputs": [
    {
     "data": {
      "text/plain": "<security.Security at 0x11ae594c0>"
     },
     "execution_count": 10,
     "metadata": {},
     "output_type": "execute_result"
    }
   ],
   "source": [
    "new_bie.clone()"
   ],
   "metadata": {
    "collapsed": false,
    "ExecuteTime": {
     "end_time": "2024-06-07T22:10:05.923029Z",
     "start_time": "2024-06-07T22:10:05.919038Z"
    }
   },
   "id": "e11c67536180ddf2"
  },
  {
   "cell_type": "code",
   "execution_count": 9,
   "outputs": [
    {
     "data": {
      "text/plain": "{'self': <security.Security at 0x11ae3df10>,\n 'type': 'new',\n '__class__': security.Security}"
     },
     "execution_count": 9,
     "metadata": {},
     "output_type": "execute_result"
    }
   ],
   "source": [
    "new_bie.init_locals"
   ],
   "metadata": {
    "collapsed": false,
    "ExecuteTime": {
     "end_time": "2024-06-07T22:09:50.653329Z",
     "start_time": "2024-06-07T22:09:50.649285Z"
    }
   },
   "id": "bd738ba3d72c28e4"
  },
  {
   "cell_type": "code",
   "execution_count": 4,
   "outputs": [],
   "source": [
    "new_obj = test_base.get_clone_dict()['class_name'] ()"
   ],
   "metadata": {
    "collapsed": false,
    "ExecuteTime": {
     "end_time": "2024-06-07T20:56:36.312594Z",
     "start_time": "2024-06-07T20:56:36.309591Z"
    }
   },
   "id": "818a1e4618e260e2"
  },
  {
   "cell_type": "code",
   "execution_count": 7,
   "outputs": [
    {
     "data": {
      "text/plain": "{'class_name': security.Base, 'init_dict': {}}"
     },
     "execution_count": 7,
     "metadata": {},
     "output_type": "execute_result"
    }
   ],
   "source": [
    "\n",
    "new_obj.get_clone_dict()"
   ],
   "metadata": {
    "collapsed": false,
    "ExecuteTime": {
     "end_time": "2024-06-07T20:56:40.913683Z",
     "start_time": "2024-06-07T20:56:40.911271Z"
    }
   },
   "id": "539124dc94642b7e"
  },
  {
   "cell_type": "code",
   "execution_count": 8,
   "outputs": [
    {
     "data": {
      "text/plain": "<security.Base at 0x12048e960>"
     },
     "execution_count": 8,
     "metadata": {},
     "output_type": "execute_result"
    }
   ],
   "source": [
    "test_base.clone()"
   ],
   "metadata": {
    "collapsed": false,
    "ExecuteTime": {
     "end_time": "2024-06-07T20:56:41.535586Z",
     "start_time": "2024-06-07T20:56:41.531295Z"
    }
   },
   "id": "b66df7572fddf95e"
  },
  {
   "cell_type": "code",
   "execution_count": 33,
   "outputs": [],
   "source": [
    "import inspect\n",
    "class dumm:\n",
    "    def __init__(self,al1, al2=2, al3 = None):\n",
    "        self.local_dict = locals()\n",
    "    def dummy(self):\n",
    "        return self.local_dict"
   ],
   "metadata": {
    "collapsed": false,
    "ExecuteTime": {
     "end_time": "2024-06-07T21:26:42.907100Z",
     "start_time": "2024-06-07T21:26:42.905027Z"
    }
   },
   "id": "de892f0dcd42ea3e"
  },
  {
   "cell_type": "code",
   "execution_count": 34,
   "outputs": [],
   "source": [
    "sig = dumm(100,3)"
   ],
   "metadata": {
    "collapsed": false,
    "ExecuteTime": {
     "end_time": "2024-06-07T21:26:44.333276Z",
     "start_time": "2024-06-07T21:26:44.324707Z"
    }
   },
   "id": "c610c6d28203776c"
  },
  {
   "cell_type": "code",
   "execution_count": 39,
   "outputs": [
    {
     "data": {
      "text/plain": "<__main__.dumm at 0x11259c920>"
     },
     "execution_count": 39,
     "metadata": {},
     "output_type": "execute_result"
    }
   ],
   "source": [
    "type(sig.local_dict['self']) (3,4,5)"
   ],
   "metadata": {
    "collapsed": false,
    "ExecuteTime": {
     "end_time": "2024-06-07T21:27:40.875662Z",
     "start_time": "2024-06-07T21:27:40.872463Z"
    }
   },
   "id": "7f1c9a54324e28c2"
  },
  {
   "cell_type": "code",
   "execution_count": 19,
   "outputs": [
    {
     "data": {
      "text/plain": "'al1'"
     },
     "execution_count": 19,
     "metadata": {},
     "output_type": "execute_result"
    }
   ],
   "source": [
    "adict(sig.parameters)['al1'].name"
   ],
   "metadata": {
    "collapsed": false,
    "ExecuteTime": {
     "end_time": "2024-06-07T21:19:26.492068Z",
     "start_time": "2024-06-07T21:19:26.487269Z"
    }
   },
   "id": "afd2f8275423b06a"
  },
  {
   "cell_type": "code",
   "execution_count": null,
   "outputs": [],
   "source": [
    "{param: for }\n"
   ],
   "metadata": {
    "collapsed": false
   },
   "id": "cbfcdf2c119a98d8"
  },
  {
   "cell_type": "code",
   "execution_count": 40,
   "outputs": [],
   "source": [
    "a = {1: 23, 2:26}"
   ],
   "metadata": {
    "collapsed": false,
    "ExecuteTime": {
     "end_time": "2024-06-07T21:35:58.419606Z",
     "start_time": "2024-06-07T21:35:58.413796Z"
    }
   },
   "id": "b5698d854f347f9b"
  },
  {
   "cell_type": "code",
   "execution_count": 45,
   "outputs": [
    {
     "ename": "AttributeError",
     "evalue": "'dict' object has no attribute 'minus'",
     "output_type": "error",
     "traceback": [
      "\u001B[0;31m---------------------------------------------------------------------------\u001B[0m",
      "\u001B[0;31mAttributeError\u001B[0m                            Traceback (most recent call last)",
      "Cell \u001B[0;32mIn[45], line 1\u001B[0m\n\u001B[0;32m----> 1\u001B[0m \u001B[43ma\u001B[49m\u001B[38;5;241;43m.\u001B[39;49m\u001B[43mminus\u001B[49m(\u001B[38;5;241m1\u001B[39m)\n",
      "\u001B[0;31mAttributeError\u001B[0m: 'dict' object has no attribute 'minus'"
     ]
    }
   ],
   "source": [
    "a.minus(1)"
   ],
   "metadata": {
    "collapsed": false,
    "ExecuteTime": {
     "end_time": "2024-06-07T21:36:24.173719Z",
     "start_time": "2024-06-07T21:36:24.169743Z"
    }
   },
   "id": "a42a828fb5502d11"
  },
  {
   "cell_type": "code",
   "execution_count": null,
   "outputs": [],
   "source": [],
   "metadata": {
    "collapsed": false
   },
   "id": "37700424f9ac13a6"
  }
 ],
 "metadata": {
  "kernelspec": {
   "display_name": "Python 3",
   "language": "python",
   "name": "python3"
  },
  "language_info": {
   "codemirror_mode": {
    "name": "ipython",
    "version": 2
   },
   "file_extension": ".py",
   "mimetype": "text/x-python",
   "name": "python",
   "nbconvert_exporter": "python",
   "pygments_lexer": "ipython2",
   "version": "2.7.6"
  }
 },
 "nbformat": 4,
 "nbformat_minor": 5
}
