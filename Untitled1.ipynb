{
 "cells": [
  {
   "cell_type": "code",
   "execution_count": 1,
   "id": "922c5910-e50c-4d36-89c3-d6a00b21cea2",
   "metadata": {},
   "outputs": [
    {
     "name": "stdout",
     "output_type": "stream",
     "text": [
      "Collecting polygon-api-client\n",
      "  Obtaining dependency information for polygon-api-client from https://files.pythonhosted.org/packages/15/ff/4d5d2ec0247e530907253a0b7dc2984c9c8fd8f6d0efbf904a1b4a76311d/polygon_api_client-1.13.5-py3-none-any.whl.metadata\n",
      "  Downloading polygon_api_client-1.13.5-py3-none-any.whl.metadata (889 bytes)\n",
      "Requirement already satisfied: certifi<2025.0.0,>=2022.5.18 in /Users/manujayadharan/opt/anaconda3/envs/quant_algo/lib/python3.11/site-packages (from polygon-api-client) (2023.7.22)\n",
      "Requirement already satisfied: urllib3<2.0.0,>=1.26.9 in /Users/manujayadharan/opt/anaconda3/envs/quant_algo/lib/python3.11/site-packages (from polygon-api-client) (1.26.18)\n",
      "Requirement already satisfied: websockets<13.0,>=10.3 in /Users/manujayadharan/opt/anaconda3/envs/quant_algo/lib/python3.11/site-packages (from polygon-api-client) (10.4)\n",
      "Downloading polygon_api_client-1.13.5-py3-none-any.whl (40 kB)\n",
      "\u001b[2K   \u001b[90m━━━━━━━━━━━━━━━━━━━━━━━━━━━━━━━━━━━━━━━━\u001b[0m \u001b[32m40.3/40.3 kB\u001b[0m \u001b[31m1.8 MB/s\u001b[0m eta \u001b[36m0:00:00\u001b[0m\n",
      "\u001b[?25hInstalling collected packages: polygon-api-client\n",
      "Successfully installed polygon-api-client-1.13.5\n"
     ]
    }
   ],
   "source": [
    "!pip install polygon-api-client"
   ]
  },
  {
   "cell_type": "code",
   "execution_count": 2,
   "id": "0d683090-6605-4ed3-a943-12ce4c27f841",
   "metadata": {},
   "outputs": [
    {
     "name": "stdout",
     "output_type": "stream",
     "text": [
      "Requirement already satisfied: plotly in /Users/manujayadharan/opt/anaconda3/envs/quant_algo/lib/python3.11/site-packages (5.18.0)\n",
      "Requirement already satisfied: tenacity>=6.2.0 in /Users/manujayadharan/opt/anaconda3/envs/quant_algo/lib/python3.11/site-packages (from plotly) (8.2.3)\n",
      "Requirement already satisfied: packaging in /Users/manujayadharan/opt/anaconda3/envs/quant_algo/lib/python3.11/site-packages (from plotly) (23.2)\n"
     ]
    }
   ],
   "source": [
    "!pip install plotly"
   ]
  },
  {
   "cell_type": "code",
   "execution_count": 3,
   "id": "1e91c064-16a5-48ae-b7a1-01cdee827c20",
   "metadata": {},
   "outputs": [],
   "source": [
    "from polygon import RESTClient\n",
    "import datetime as dt\n",
    "import pandas as pd\n",
    "import plotly.graph_objects as go\n",
    "from plotly.offline import plot"
   ]
  },
  {
   "cell_type": "code",
   "execution_count": 4,
   "id": "237cdc9a-d7b4-4134-b91f-909f87409312",
   "metadata": {},
   "outputs": [],
   "source": [
    "api_key = \"qjqP8zaCo5HAIDD004HbpH2lGz1zBH5w\""
   ]
  },
  {
   "cell_type": "code",
   "execution_count": 5,
   "id": "7c035132-68ec-4d5f-a071-a0e2a2b0e478",
   "metadata": {},
   "outputs": [],
   "source": [
    "client = RESTClient(api_key)"
   ]
  },
  {
   "cell_type": "code",
   "execution_count": null,
   "id": "829320d9-619f-4df4-bb4f-dd26f6f633b6",
   "metadata": {},
   "outputs": [],
   "source": []
  }
 ],
 "metadata": {
  "kernelspec": {
   "display_name": "Python 3 (ipykernel)",
   "language": "python",
   "name": "python3"
  },
  "language_info": {
   "codemirror_mode": {
    "name": "ipython",
    "version": 3
   },
   "file_extension": ".py",
   "mimetype": "text/x-python",
   "name": "python",
   "nbconvert_exporter": "python",
   "pygments_lexer": "ipython3",
   "version": "3.11.5"
  }
 },
 "nbformat": 4,
 "nbformat_minor": 5
}
