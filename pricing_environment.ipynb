{
 "cells": [
  {
   "cell_type": "code",
   "execution_count": 4,
   "id": "1b66ee07",
   "metadata": {},
   "outputs": [],
   "source": [
    "import time\n",
    "import pandas as pd"
   ]
  },
  {
   "cell_type": "code",
   "execution_count": 13,
   "id": "cfe746f1",
   "metadata": {},
   "outputs": [],
   "source": [
    "class PricingEnvironment:\n",
    "    def __init__(self, name):\n",
    "        self.name = name\n",
    "        self.assets = {}\n",
    "\n",
    "    def load_data_from_excel(self, file_names):\n",
    "        for file_name in file_names:\n",
    "            try:\n",
    "                data = pd.read_excel(file_name + '.xlsx')\n",
    "                asset_name = file_name.split('_')[0]\n",
    "                # Convert 'Timestamp' column to datetime if not already\n",
    "                if isinstance(data['Timestamp'].iloc[0], str):\n",
    "                    data['Timestamp'] = pd.to_datetime(data['Timestamp'])\n",
    "                self.assets[asset_name] = data.set_index('Timestamp')['Open'].to_dict()\n",
    "                print(f\"Loaded data for asset '{asset_name}' from {file_name}.xlsx\")\n",
    "            except Exception as e:\n",
    "                print(f\"Error loading data from {file_name}.xlsx: {e}\")\n",
    "\n",
    "    def load_data_from_csv(self, file_names):\n",
    "        for file_name in file_names:\n",
    "            try:\n",
    "                data = pd.read_csv(file_name + '.csv')\n",
    "                asset_name = file_name.split('_')[0]\n",
    "                # Convert 'Timestamp' column to datetime if not already\n",
    "                if isinstance(data['Timestamp'].iloc[0], str):\n",
    "                    data['Timestamp'] = pd.to_datetime(data['Timestamp'])\n",
    "                self.assets[asset_name] = data.set_index('Timestamp')['Open'].to_dict()\n",
    "                print(f\"Loaded data for asset '{asset_name}' from {file_name}.csv\")\n",
    "            except Exception as e:\n",
    "                print(f\"Error loading data from {file_name}.csv: {e}\")\n",
    "\n",
    "    def get_open_price_for_timestamp(self, timestamp):\n",
    "        # Convert input timestamp to the format used in the loaded CSV files\n",
    "        timestamp = pd.to_datetime(timestamp)\n",
    "        open_prices = {}\n",
    "        for asset, prices in self.assets.items():\n",
    "            if timestamp in prices:\n",
    "                open_prices[asset] = prices[timestamp]\n",
    "            else:\n",
    "                print(f\"No data found for asset '{asset}' at timestamp '{timestamp}'\")\n",
    "        return open_prices"
   ]
  },
  {
   "cell_type": "code",
   "execution_count": 19,
   "id": "7910743f",
   "metadata": {},
   "outputs": [
    {
     "name": "stdout",
     "output_type": "stream",
     "text": [
      "Loaded data for asset 'XAUUSD' from XAUUSD_2023.csv\n",
      "Loaded data for asset 'GBPUSD' from GBPUSD_2023.csv\n",
      "No data found for asset 'XAUUSD' at timestamp '2023-10-21 18:00:00'\n",
      "No data found for asset 'GBPUSD' at timestamp '2023-10-21 18:00:00'\n",
      "{}\n",
      "CPU Time: 1.421875 seconds\n"
     ]
    }
   ],
   "source": [
    "# Start measuring CPU time\n",
    "start_time = time.process_time()\n",
    "\n",
    "# Create an instance of PricingEnvironment\n",
    "pricing_env = PricingEnvironment(\"Example\")\n",
    "\n",
    "# Load data from Excel files\n",
    "file_names = [\"XAUUSD_2023\", \"GBPUSD_2023\"]\n",
    "# pricing_env.load_data_from_excel(file_names)  #too slow to load excel files\n",
    "pricing_env.load_data_from_csv(file_names)  # almost 100x faster #convert all excel files to csv\n",
    "\n",
    "# Specify timestamp\n",
    "timestamp = pd.Timestamp(\"01/10/2023 18:00\")\n",
    "\n",
    "# Get open prices for the specified timestamp\n",
    "open_prices = pricing_env.get_open_price_for_timestamp(timestamp)\n",
    "print(open_prices)\n",
    "\n",
    "# End measuring CPU time\n",
    "cpu_time = time.process_time() - start_time\n",
    "print(\"CPU Time:\", cpu_time, \"seconds\")"
   ]
  },
  {
   "cell_type": "code",
   "execution_count": 6,
   "id": "e3a577b6",
   "metadata": {},
   "outputs": [
    {
     "name": "stdout",
     "output_type": "stream",
     "text": [
      "Excel file 'XAUUSD_2023.xlsx' successfully converted to CSV file 'XAUUSD_2023.csv'\n"
     ]
    }
   ],
   "source": [
    "def excel_to_csv(input_excel_file, output_csv_file):\n",
    "    try:\n",
    "        # Read Excel file\n",
    "        df = pd.read_excel(input_excel_file)\n",
    "        # Write DataFrame to CSV file\n",
    "        df.to_csv(output_csv_file, index=False)\n",
    "        print(f\"Excel file '{input_excel_file}' successfully converted to CSV file '{output_csv_file}'\")\n",
    "    except Exception as e:\n",
    "        print(f\"Error converting Excel to CSV: {e}\")\n",
    "\n",
    "# Example usage\n",
    "input_excel_file = \"XAUUSD_2023.xlsx\"\n",
    "output_csv_file = \"XAUUSD_2023.csv\"\n",
    "excel_to_csv(input_excel_file, output_csv_file)\n"
   ]
  },
  {
   "cell_type": "code",
   "execution_count": null,
   "id": "9ebc54bc",
   "metadata": {},
   "outputs": [],
   "source": []
  }
 ],
 "metadata": {
  "kernelspec": {
   "display_name": "Python 3 (ipykernel)",
   "language": "python",
   "name": "python3"
  },
  "language_info": {
   "codemirror_mode": {
    "name": "ipython",
    "version": 3
   },
   "file_extension": ".py",
   "mimetype": "text/x-python",
   "name": "python",
   "nbconvert_exporter": "python",
   "pygments_lexer": "ipython3",
   "version": "3.9.17"
  }
 },
 "nbformat": 4,
 "nbformat_minor": 5
}
